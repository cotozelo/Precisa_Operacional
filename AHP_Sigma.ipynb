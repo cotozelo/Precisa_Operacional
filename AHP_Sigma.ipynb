{
  "cells": [
    {
      "cell_type": "markdown",
      "metadata": {
        "id": "view-in-github",
        "colab_type": "text"
      },
      "source": [
        "<a href=\"https://colab.research.google.com/github/cotozelo/Precisa_Operacional/blob/main/AHP_Sigma.ipynb\" target=\"_parent\"><img src=\"https://colab.research.google.com/assets/colab-badge.svg\" alt=\"Open In Colab\"/></a>"
      ]
    },
    {
      "cell_type": "markdown",
      "metadata": {
        "id": "iPemvo8LPtzP"
      },
      "source": [
        "# AHP Sigma"
      ]
    },
    {
      "cell_type": "code",
      "execution_count": null,
      "metadata": {
        "id": "NgwiqdauPtzT"
      },
      "outputs": [],
      "source": [
        "import pandas as pd"
      ]
    },
    {
      "cell_type": "markdown",
      "metadata": {
        "id": "wF6EzHP2PtzU"
      },
      "source": [
        "### Atributos por Produto"
      ]
    },
    {
      "cell_type": "code",
      "execution_count": null,
      "metadata": {
        "id": "q2Hr0XINPtzV",
        "outputId": "038fad45-43fe-4bc7-9707-788fba1fd2a2"
      },
      "outputs": [
        {
          "data": {
            "text/html": [
              "<div>\n",
              "<style scoped>\n",
              "    .dataframe tbody tr th:only-of-type {\n",
              "        vertical-align: middle;\n",
              "    }\n",
              "\n",
              "    .dataframe tbody tr th {\n",
              "        vertical-align: top;\n",
              "    }\n",
              "\n",
              "    .dataframe thead th {\n",
              "        text-align: right;\n",
              "    }\n",
              "</style>\n",
              "<table border=\"1\" class=\"dataframe\">\n",
              "  <thead>\n",
              "    <tr style=\"text-align: right;\">\n",
              "      <th></th>\n",
              "      <th>Nome</th>\n",
              "      <th>Preco [R$]</th>\n",
              "      <th>Potencia [cv]</th>\n",
              "      <th>Motor [L]</th>\n",
              "      <th>Torque [kgfm]</th>\n",
              "    </tr>\n",
              "  </thead>\n",
              "  <tbody>\n",
              "    <tr>\n",
              "      <th>0</th>\n",
              "      <td>Fiesta</td>\n",
              "      <td>31000</td>\n",
              "      <td>107</td>\n",
              "      <td>1.6</td>\n",
              "      <td>15.3</td>\n",
              "    </tr>\n",
              "    <tr>\n",
              "      <th>1</th>\n",
              "      <td>Uno</td>\n",
              "      <td>30000</td>\n",
              "      <td>88</td>\n",
              "      <td>1.4</td>\n",
              "      <td>12.3</td>\n",
              "    </tr>\n",
              "    <tr>\n",
              "      <th>2</th>\n",
              "      <td>Gol</td>\n",
              "      <td>35000</td>\n",
              "      <td>75</td>\n",
              "      <td>1.0</td>\n",
              "      <td>10.6</td>\n",
              "    </tr>\n",
              "    <tr>\n",
              "      <th>3</th>\n",
              "      <td>March</td>\n",
              "      <td>32000</td>\n",
              "      <td>111</td>\n",
              "      <td>1.6</td>\n",
              "      <td>15.1</td>\n",
              "    </tr>\n",
              "    <tr>\n",
              "      <th>4</th>\n",
              "      <td>Sandero</td>\n",
              "      <td>31000</td>\n",
              "      <td>107</td>\n",
              "      <td>1.6</td>\n",
              "      <td>15.3</td>\n",
              "    </tr>\n",
              "  </tbody>\n",
              "</table>\n",
              "</div>"
            ],
            "text/plain": [
              "      Nome  Preco [R$]  Potencia [cv]  Motor [L]  Torque [kgfm]\n",
              "0   Fiesta       31000            107        1.6           15.3\n",
              "1      Uno       30000             88        1.4           12.3\n",
              "2      Gol       35000             75        1.0           10.6\n",
              "3    March       32000            111        1.6           15.1\n",
              "4  Sandero       31000            107        1.6           15.3"
            ]
          },
          "execution_count": 1,
          "metadata": {},
          "output_type": "execute_result"
        }
      ],
      "source": [
        "df_carros = pd.DataFrame({\n",
        "'Nome':          ['Fiesta', 'Uno', 'Gol', 'March', 'Sandero'  ],\n",
        "'Preco [R$]':    [31000   , 30000, 35000,  32000,   31000],\n",
        "'Potencia [cv]': [107     ,    88,    75,    111,   107],\n",
        "'Motor [L]':     [1.6     ,   1.4,   1.0,    1.6,   1.6],\n",
        "'Torque [kgfm]': [15.3    ,  12.3,  10.6,   15.1,  15.3]})\n",
        "\n",
        "df_carros\n",
        ""
      ]
    },
    {
      "cell_type": "markdown",
      "metadata": {
        "id": "KHDd2S8MPtzW"
      },
      "source": [
        "### Identifica influencia positiva e negativa\n",
        "\n",
        "* Influencia negativa: ```influencia_atributo = 1/valor_atributo```\n",
        "\n",
        "* Influencia positiva: ```influencia_atributo = valor_atribulto```"
      ]
    },
    {
      "cell_type": "code",
      "execution_count": null,
      "metadata": {
        "id": "0H1e1AI_PtzW"
      },
      "outputs": [],
      "source": [
        "# Influencia Negativa\n",
        "inf_preco = 1/df_carros['Preco [R$]']\n",
        "\n",
        "# Influencia Positiva\n",
        "inf_potencia = df_carros['Potencia [cv]']\n",
        "inf_motor    = df_carros['Motor [L]']\n",
        "inf_toque    = df_carros['Torque [kgfm]']"
      ]
    },
    {
      "cell_type": "markdown",
      "metadata": {
        "id": "7SzBk4U0PtzW"
      },
      "source": [
        "### Aplicando normalização baseada na influencia\n",
        "\n",
        "```atributo_normalizado = influencia_atributo/Sum(influencia_atributo)```"
      ]
    },
    {
      "cell_type": "code",
      "execution_count": null,
      "metadata": {
        "id": "k9KzuhBRPtzX",
        "outputId": "f22428de-cfa4-4a8b-bd86-6313addcbf95"
      },
      "outputs": [
        {
          "data": {
            "text/html": [
              "<div>\n",
              "<style scoped>\n",
              "    .dataframe tbody tr th:only-of-type {\n",
              "        vertical-align: middle;\n",
              "    }\n",
              "\n",
              "    .dataframe tbody tr th {\n",
              "        vertical-align: top;\n",
              "    }\n",
              "\n",
              "    .dataframe thead th {\n",
              "        text-align: right;\n",
              "    }\n",
              "</style>\n",
              "<table border=\"1\" class=\"dataframe\">\n",
              "  <thead>\n",
              "    <tr style=\"text-align: right;\">\n",
              "      <th></th>\n",
              "      <th>Nome</th>\n",
              "      <th>Preco [R$]</th>\n",
              "      <th>Potencia [cv]</th>\n",
              "      <th>Motor [L]</th>\n",
              "      <th>Torque [kgfm]</th>\n",
              "    </tr>\n",
              "  </thead>\n",
              "  <tbody>\n",
              "    <tr>\n",
              "      <th>0</th>\n",
              "      <td>Fiesta</td>\n",
              "      <td>0.204591</td>\n",
              "      <td>0.219262</td>\n",
              "      <td>0.222222</td>\n",
              "      <td>0.223032</td>\n",
              "    </tr>\n",
              "    <tr>\n",
              "      <th>1</th>\n",
              "      <td>Uno</td>\n",
              "      <td>0.211411</td>\n",
              "      <td>0.180328</td>\n",
              "      <td>0.194444</td>\n",
              "      <td>0.179300</td>\n",
              "    </tr>\n",
              "    <tr>\n",
              "      <th>2</th>\n",
              "      <td>Gol</td>\n",
              "      <td>0.181209</td>\n",
              "      <td>0.153689</td>\n",
              "      <td>0.138889</td>\n",
              "      <td>0.154519</td>\n",
              "    </tr>\n",
              "    <tr>\n",
              "      <th>3</th>\n",
              "      <td>March</td>\n",
              "      <td>0.198198</td>\n",
              "      <td>0.227459</td>\n",
              "      <td>0.222222</td>\n",
              "      <td>0.220117</td>\n",
              "    </tr>\n",
              "    <tr>\n",
              "      <th>4</th>\n",
              "      <td>Sandero</td>\n",
              "      <td>0.204591</td>\n",
              "      <td>0.219262</td>\n",
              "      <td>0.222222</td>\n",
              "      <td>0.223032</td>\n",
              "    </tr>\n",
              "  </tbody>\n",
              "</table>\n",
              "</div>"
            ],
            "text/plain": [
              "      Nome  Preco [R$]  Potencia [cv]  Motor [L]  Torque [kgfm]\n",
              "0   Fiesta    0.204591       0.219262   0.222222       0.223032\n",
              "1      Uno    0.211411       0.180328   0.194444       0.179300\n",
              "2      Gol    0.181209       0.153689   0.138889       0.154519\n",
              "3    March    0.198198       0.227459   0.222222       0.220117\n",
              "4  Sandero    0.204591       0.219262   0.222222       0.223032"
            ]
          },
          "execution_count": 17,
          "metadata": {},
          "output_type": "execute_result"
        }
      ],
      "source": [
        "df_car_norm = df_carros.copy()\n",
        "\n",
        "df_car_norm['Preco [R$]']    = inf_preco/inf_preco.sum()\n",
        "df_car_norm['Potencia [cv]'] = inf_potencia/inf_potencia.sum()\n",
        "df_car_norm['Motor [L]']     = inf_motor/inf_motor.sum()\n",
        "df_car_norm['Torque [kgfm]'] = inf_toque/inf_toque.sum()\n",
        "df_car_norm"
      ]
    },
    {
      "cell_type": "markdown",
      "metadata": {
        "id": "FT0rSM1NPtzY"
      },
      "source": [
        "### Desvio Padrão por Atributo\n",
        "\n",
        "```desvio_atributo```"
      ]
    },
    {
      "cell_type": "code",
      "execution_count": null,
      "metadata": {
        "id": "6kkcre70PtzY",
        "outputId": "680e733c-7969-4216-9470-403dfe571b33"
      },
      "outputs": [
        {
          "data": {
            "text/plain": [
              "{'Preco [R$]': 0.011496775635213294,\n",
              " 'Potencia [cv]': 0.031732534973851395,\n",
              " 'Motor [L]': 0.03621779114001473,\n",
              " 'Torque [kgfm]': 0.031474730406029}"
            ]
          },
          "execution_count": 18,
          "metadata": {},
          "output_type": "execute_result"
        }
      ],
      "source": [
        "sigma = df_car_norm.describe().loc['std', :].to_dict()\n",
        "sigma"
      ]
    },
    {
      "cell_type": "markdown",
      "metadata": {
        "id": "F---7AHYPtzY"
      },
      "source": [
        "### Média por Atributo\n",
        "\n",
        "```media_atributo```"
      ]
    },
    {
      "cell_type": "code",
      "execution_count": null,
      "metadata": {
        "id": "v_b5to9kPtzZ",
        "outputId": "5d19161b-3c7e-4299-fb0b-3e1172ae091c"
      },
      "outputs": [
        {
          "data": {
            "text/plain": [
              "{'Preco [R$]': 0.2,\n",
              " 'Potencia [cv]': 0.2,\n",
              " 'Motor [L]': 0.20000000000000004,\n",
              " 'Torque [kgfm]': 0.19999999999999998}"
            ]
          },
          "execution_count": 19,
          "metadata": {},
          "output_type": "execute_result"
        }
      ],
      "source": [
        "media = df_car_norm.describe().loc['mean', :].to_dict()\n",
        "media"
      ]
    },
    {
      "cell_type": "markdown",
      "metadata": {
        "id": "aWMcHVsWPtzZ"
      },
      "source": [
        "### Nomalizando Desvio Padrão\n",
        "\n",
        "```desvio_atributo_normalizado = desvio_atributo / sum(desvio_atributo)```"
      ]
    },
    {
      "cell_type": "code",
      "execution_count": null,
      "metadata": {
        "id": "Rdoz-8miPtzZ",
        "outputId": "9cdfedfb-29fa-4804-a498-e1da0fb53e6b"
      },
      "outputs": [
        {
          "data": {
            "text/plain": [
              "{'Preco [R$]': 0.103647545409606,\n",
              " 'Potencia [cv]': 0.28608015534289005,\n",
              " 'Motor [L]': 0.3265163443150605,\n",
              " 'Torque [kgfm]': 0.28375595493244343}"
            ]
          },
          "execution_count": 5,
          "metadata": {},
          "output_type": "execute_result"
        }
      ],
      "source": [
        "#@title Desvio Padrão Normalizado ()\n",
        "sigma_normal = {}\n",
        "sigma_soma = sum(list(sigma.values()))\n",
        "for kk in sigma:\n",
        "    sigma_normal[kk] = sigma[kk]/sigma_soma\n",
        "sigma_normal"
      ]
    },
    {
      "cell_type": "markdown",
      "metadata": {
        "id": "ECF5knV-PtzZ"
      },
      "source": [
        "### Peso por Atributo\n",
        "\n",
        "```peso = atributo_normalizado * desvio_atributo_normalizado ```"
      ]
    },
    {
      "cell_type": "code",
      "execution_count": null,
      "metadata": {
        "id": "naGG6HzaPtzZ",
        "outputId": "5cafc13d-4f00-4bc3-f2da-6d2b59357ec0"
      },
      "outputs": [
        {
          "data": {
            "text/html": [
              "<div>\n",
              "<style scoped>\n",
              "    .dataframe tbody tr th:only-of-type {\n",
              "        vertical-align: middle;\n",
              "    }\n",
              "\n",
              "    .dataframe tbody tr th {\n",
              "        vertical-align: top;\n",
              "    }\n",
              "\n",
              "    .dataframe thead th {\n",
              "        text-align: right;\n",
              "    }\n",
              "</style>\n",
              "<table border=\"1\" class=\"dataframe\">\n",
              "  <thead>\n",
              "    <tr style=\"text-align: right;\">\n",
              "      <th></th>\n",
              "      <th>Nome</th>\n",
              "      <th>Preco [R$]</th>\n",
              "      <th>Potencia [cv]</th>\n",
              "      <th>Motor [L]</th>\n",
              "      <th>Torque [kgfm]</th>\n",
              "    </tr>\n",
              "  </thead>\n",
              "  <tbody>\n",
              "    <tr>\n",
              "      <th>0</th>\n",
              "      <td>Fiesta</td>\n",
              "      <td>0.021205</td>\n",
              "      <td>0.062727</td>\n",
              "      <td>0.072559</td>\n",
              "      <td>0.063287</td>\n",
              "    </tr>\n",
              "    <tr>\n",
              "      <th>1</th>\n",
              "      <td>Uno</td>\n",
              "      <td>0.021912</td>\n",
              "      <td>0.051588</td>\n",
              "      <td>0.063489</td>\n",
              "      <td>0.050878</td>\n",
              "    </tr>\n",
              "    <tr>\n",
              "      <th>2</th>\n",
              "      <td>Gol</td>\n",
              "      <td>0.018782</td>\n",
              "      <td>0.043967</td>\n",
              "      <td>0.045349</td>\n",
              "      <td>0.043846</td>\n",
              "    </tr>\n",
              "    <tr>\n",
              "      <th>3</th>\n",
              "      <td>March</td>\n",
              "      <td>0.020543</td>\n",
              "      <td>0.065072</td>\n",
              "      <td>0.072559</td>\n",
              "      <td>0.062459</td>\n",
              "    </tr>\n",
              "    <tr>\n",
              "      <th>4</th>\n",
              "      <td>Sandero</td>\n",
              "      <td>0.021205</td>\n",
              "      <td>0.062727</td>\n",
              "      <td>0.072559</td>\n",
              "      <td>0.063287</td>\n",
              "    </tr>\n",
              "  </tbody>\n",
              "</table>\n",
              "</div>"
            ],
            "text/plain": [
              "      Nome  Preco [R$]  Potencia [cv]  Motor [L]  Torque [kgfm]\n",
              "0   Fiesta    0.021205       0.062727   0.072559       0.063287\n",
              "1      Uno    0.021912       0.051588   0.063489       0.050878\n",
              "2      Gol    0.018782       0.043967   0.045349       0.043846\n",
              "3    March    0.020543       0.065072   0.072559       0.062459\n",
              "4  Sandero    0.021205       0.062727   0.072559       0.063287"
            ]
          },
          "execution_count": 6,
          "metadata": {},
          "output_type": "execute_result"
        }
      ],
      "source": [
        "df_car_import_sigma = df_car_norm.copy()\n",
        "df_car_import_sigma['Preco [R$]'] = df_car_norm['Preco [R$]'] * sigma_normal['Preco [R$]']\n",
        "df_car_import_sigma['Potencia [cv]'] = df_car_norm['Potencia [cv]'] * sigma_normal['Potencia [cv]']\n",
        "df_car_import_sigma['Motor [L]'] = df_car_norm['Motor [L]'] * sigma_normal['Motor [L]']\n",
        "df_car_import_sigma['Torque [kgfm]'] = df_car_norm['Torque [kgfm]'] * sigma_normal['Torque [kgfm]']\n",
        "df_car_import_sigma"
      ]
    },
    {
      "cell_type": "markdown",
      "metadata": {
        "id": "-Nuq1aJ5Ptza"
      },
      "source": [
        "### Score\n",
        "\n",
        "```Score = Sum(peso)```"
      ]
    },
    {
      "cell_type": "code",
      "execution_count": null,
      "metadata": {
        "id": "a2IgRHBIPtza",
        "outputId": "caa070ad-96bb-47ff-af29-90244aeb004d"
      },
      "outputs": [
        {
          "data": {
            "text/html": [
              "<div>\n",
              "<style scoped>\n",
              "    .dataframe tbody tr th:only-of-type {\n",
              "        vertical-align: middle;\n",
              "    }\n",
              "\n",
              "    .dataframe tbody tr th {\n",
              "        vertical-align: top;\n",
              "    }\n",
              "\n",
              "    .dataframe thead th {\n",
              "        text-align: right;\n",
              "    }\n",
              "</style>\n",
              "<table border=\"1\" class=\"dataframe\">\n",
              "  <thead>\n",
              "    <tr style=\"text-align: right;\">\n",
              "      <th></th>\n",
              "      <th>Modelo</th>\n",
              "      <th>Score</th>\n",
              "    </tr>\n",
              "  </thead>\n",
              "  <tbody>\n",
              "    <tr>\n",
              "      <th>3</th>\n",
              "      <td>March</td>\n",
              "      <td>0.220633</td>\n",
              "    </tr>\n",
              "    <tr>\n",
              "      <th>0</th>\n",
              "      <td>Fiesta</td>\n",
              "      <td>0.219778</td>\n",
              "    </tr>\n",
              "    <tr>\n",
              "      <th>4</th>\n",
              "      <td>Sandero</td>\n",
              "      <td>0.219778</td>\n",
              "    </tr>\n",
              "    <tr>\n",
              "      <th>1</th>\n",
              "      <td>Uno</td>\n",
              "      <td>0.187867</td>\n",
              "    </tr>\n",
              "    <tr>\n",
              "      <th>2</th>\n",
              "      <td>Gol</td>\n",
              "      <td>0.151944</td>\n",
              "    </tr>\n",
              "  </tbody>\n",
              "</table>\n",
              "</div>"
            ],
            "text/plain": [
              "    Modelo     Score\n",
              "3    March  0.220633\n",
              "0   Fiesta  0.219778\n",
              "4  Sandero  0.219778\n",
              "1      Uno  0.187867\n",
              "2      Gol  0.151944"
            ]
          },
          "execution_count": 7,
          "metadata": {},
          "output_type": "execute_result"
        }
      ],
      "source": [
        "#@title Somando a linha e encontrando o score e o melhor custo benefício\n",
        "df_car_custo_beneficio_sigma = pd.DataFrame({\n",
        "    'Modelo': ['Fiesta', 'Uno', 'Gol', 'March', 'Sandero'],\n",
        "    'Score':  [df_car_import_sigma[df_car_import_sigma['Nome'] == 'Fiesta'].T[0].iloc[1:].sum(),\n",
        "               df_car_import_sigma[df_car_import_sigma['Nome'] == 'Uno'].T[1].iloc[1:].sum(),\n",
        "               df_car_import_sigma[df_car_import_sigma['Nome'] == 'Gol'].T[2].iloc[1:].sum(),\n",
        "               df_car_import_sigma[df_car_import_sigma['Nome'] == 'March'].T[3].iloc[1:].sum(),\n",
        "               df_car_import_sigma[df_car_import_sigma['Nome'] == 'Sandero'].T[4].iloc[1:].sum()]})\n",
        "df_car_custo_beneficio_sigma.sort_values('Score', inplace=True, ascending=False)\n",
        "df_car_custo_beneficio_sigma"
      ]
    }
  ],
  "metadata": {
    "kernelspec": {
      "display_name": "Python 3",
      "language": "python",
      "name": "python3"
    },
    "language_info": {
      "codemirror_mode": {
        "name": "ipython",
        "version": 3
      },
      "file_extension": ".py",
      "mimetype": "text/x-python",
      "name": "python",
      "nbconvert_exporter": "python",
      "pygments_lexer": "ipython3",
      "version": "3.11.7"
    },
    "orig_nbformat": 4,
    "colab": {
      "provenance": [],
      "include_colab_link": true
    }
  },
  "nbformat": 4,
  "nbformat_minor": 0
}